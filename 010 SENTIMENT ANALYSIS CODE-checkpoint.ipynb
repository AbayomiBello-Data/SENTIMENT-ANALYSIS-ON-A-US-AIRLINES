{
 "cells": [
  {
   "cell_type": "markdown",
   "id": "f4213d27",
   "metadata": {},
   "source": [
    "## SENTIMENT ANALYSIS ON TWITTER COMMENTS"
   ]
  },
  {
   "cell_type": "markdown",
   "id": "b4860b55",
   "metadata": {},
   "source": [
    "## importing the libraries\n"
   ]
  },
  {
   "cell_type": "code",
   "execution_count": 1,
   "id": "7e763bc8",
   "metadata": {},
   "outputs": [],
   "source": [
    "import numpy as np\n",
    "import pandas as pd\n",
    "import matplotlib.pyplot as plt\n",
    "import seaborn as sns\n",
    "from sklearn.model_selection import train_test_split\n",
    "from keras_preprocessing.text import Tokenizer\n",
    "import keras\n",
    "import tensorflow as tf\n",
    "from keras.preprocessing.sequence import pad_sequences\n",
    "from keras.layers import Embedding, Dense\n",
    "from keras.models import Sequential\n",
    "from tensorflow.keras.layers import LSTM,Dense, Dropout, SpatialDropout1D\n",
    "import datetime\n",
    "from keras.callbacks import TensorBoard"
   ]
  },
  {
   "cell_type": "markdown",
   "id": "08f4f78f",
   "metadata": {},
   "source": [
    "## loading dataset"
   ]
  },
  {
   "cell_type": "code",
   "execution_count": 2,
   "id": "1dee6114",
   "metadata": {},
   "outputs": [
    {
     "data": {
      "text/html": [
       "<div>\n",
       "<style scoped>\n",
       "    .dataframe tbody tr th:only-of-type {\n",
       "        vertical-align: middle;\n",
       "    }\n",
       "\n",
       "    .dataframe tbody tr th {\n",
       "        vertical-align: top;\n",
       "    }\n",
       "\n",
       "    .dataframe thead th {\n",
       "        text-align: right;\n",
       "    }\n",
       "</style>\n",
       "<table border=\"1\" class=\"dataframe\">\n",
       "  <thead>\n",
       "    <tr style=\"text-align: right;\">\n",
       "      <th></th>\n",
       "      <th>tweet_id</th>\n",
       "      <th>airline_sentiment</th>\n",
       "      <th>airline_sentiment_confidence</th>\n",
       "      <th>negativereason</th>\n",
       "      <th>negativereason_confidence</th>\n",
       "      <th>airline</th>\n",
       "      <th>airline_sentiment_gold</th>\n",
       "      <th>name</th>\n",
       "      <th>negativereason_gold</th>\n",
       "      <th>retweet_count</th>\n",
       "      <th>text</th>\n",
       "      <th>tweet_coord</th>\n",
       "      <th>tweet_created</th>\n",
       "      <th>tweet_location</th>\n",
       "      <th>user_timezone</th>\n",
       "    </tr>\n",
       "  </thead>\n",
       "  <tbody>\n",
       "    <tr>\n",
       "      <th>0</th>\n",
       "      <td>570306133677760513</td>\n",
       "      <td>neutral</td>\n",
       "      <td>1.0000</td>\n",
       "      <td>NaN</td>\n",
       "      <td>NaN</td>\n",
       "      <td>Virgin America</td>\n",
       "      <td>NaN</td>\n",
       "      <td>cairdin</td>\n",
       "      <td>NaN</td>\n",
       "      <td>0</td>\n",
       "      <td>@VirginAmerica What @dhepburn said.</td>\n",
       "      <td>NaN</td>\n",
       "      <td>2015-02-24 11:35:52 -0800</td>\n",
       "      <td>NaN</td>\n",
       "      <td>Eastern Time (US &amp; Canada)</td>\n",
       "    </tr>\n",
       "    <tr>\n",
       "      <th>1</th>\n",
       "      <td>570301130888122368</td>\n",
       "      <td>positive</td>\n",
       "      <td>0.3486</td>\n",
       "      <td>NaN</td>\n",
       "      <td>0.0000</td>\n",
       "      <td>Virgin America</td>\n",
       "      <td>NaN</td>\n",
       "      <td>jnardino</td>\n",
       "      <td>NaN</td>\n",
       "      <td>0</td>\n",
       "      <td>@VirginAmerica plus you've added commercials t...</td>\n",
       "      <td>NaN</td>\n",
       "      <td>2015-02-24 11:15:59 -0800</td>\n",
       "      <td>NaN</td>\n",
       "      <td>Pacific Time (US &amp; Canada)</td>\n",
       "    </tr>\n",
       "    <tr>\n",
       "      <th>2</th>\n",
       "      <td>570301083672813571</td>\n",
       "      <td>neutral</td>\n",
       "      <td>0.6837</td>\n",
       "      <td>NaN</td>\n",
       "      <td>NaN</td>\n",
       "      <td>Virgin America</td>\n",
       "      <td>NaN</td>\n",
       "      <td>yvonnalynn</td>\n",
       "      <td>NaN</td>\n",
       "      <td>0</td>\n",
       "      <td>@VirginAmerica I didn't today... Must mean I n...</td>\n",
       "      <td>NaN</td>\n",
       "      <td>2015-02-24 11:15:48 -0800</td>\n",
       "      <td>Lets Play</td>\n",
       "      <td>Central Time (US &amp; Canada)</td>\n",
       "    </tr>\n",
       "    <tr>\n",
       "      <th>3</th>\n",
       "      <td>570301031407624196</td>\n",
       "      <td>negative</td>\n",
       "      <td>1.0000</td>\n",
       "      <td>Bad Flight</td>\n",
       "      <td>0.7033</td>\n",
       "      <td>Virgin America</td>\n",
       "      <td>NaN</td>\n",
       "      <td>jnardino</td>\n",
       "      <td>NaN</td>\n",
       "      <td>0</td>\n",
       "      <td>@VirginAmerica it's really aggressive to blast...</td>\n",
       "      <td>NaN</td>\n",
       "      <td>2015-02-24 11:15:36 -0800</td>\n",
       "      <td>NaN</td>\n",
       "      <td>Pacific Time (US &amp; Canada)</td>\n",
       "    </tr>\n",
       "    <tr>\n",
       "      <th>4</th>\n",
       "      <td>570300817074462722</td>\n",
       "      <td>negative</td>\n",
       "      <td>1.0000</td>\n",
       "      <td>Can't Tell</td>\n",
       "      <td>1.0000</td>\n",
       "      <td>Virgin America</td>\n",
       "      <td>NaN</td>\n",
       "      <td>jnardino</td>\n",
       "      <td>NaN</td>\n",
       "      <td>0</td>\n",
       "      <td>@VirginAmerica and it's a really big bad thing...</td>\n",
       "      <td>NaN</td>\n",
       "      <td>2015-02-24 11:14:45 -0800</td>\n",
       "      <td>NaN</td>\n",
       "      <td>Pacific Time (US &amp; Canada)</td>\n",
       "    </tr>\n",
       "    <tr>\n",
       "      <th>...</th>\n",
       "      <td>...</td>\n",
       "      <td>...</td>\n",
       "      <td>...</td>\n",
       "      <td>...</td>\n",
       "      <td>...</td>\n",
       "      <td>...</td>\n",
       "      <td>...</td>\n",
       "      <td>...</td>\n",
       "      <td>...</td>\n",
       "      <td>...</td>\n",
       "      <td>...</td>\n",
       "      <td>...</td>\n",
       "      <td>...</td>\n",
       "      <td>...</td>\n",
       "      <td>...</td>\n",
       "    </tr>\n",
       "    <tr>\n",
       "      <th>14635</th>\n",
       "      <td>569587686496825344</td>\n",
       "      <td>positive</td>\n",
       "      <td>0.3487</td>\n",
       "      <td>NaN</td>\n",
       "      <td>0.0000</td>\n",
       "      <td>American</td>\n",
       "      <td>NaN</td>\n",
       "      <td>KristenReenders</td>\n",
       "      <td>NaN</td>\n",
       "      <td>0</td>\n",
       "      <td>@AmericanAir thank you we got on a different f...</td>\n",
       "      <td>NaN</td>\n",
       "      <td>2015-02-22 12:01:01 -0800</td>\n",
       "      <td>NaN</td>\n",
       "      <td>NaN</td>\n",
       "    </tr>\n",
       "    <tr>\n",
       "      <th>14636</th>\n",
       "      <td>569587371693355008</td>\n",
       "      <td>negative</td>\n",
       "      <td>1.0000</td>\n",
       "      <td>Customer Service Issue</td>\n",
       "      <td>1.0000</td>\n",
       "      <td>American</td>\n",
       "      <td>NaN</td>\n",
       "      <td>itsropes</td>\n",
       "      <td>NaN</td>\n",
       "      <td>0</td>\n",
       "      <td>@AmericanAir leaving over 20 minutes Late Flig...</td>\n",
       "      <td>NaN</td>\n",
       "      <td>2015-02-22 11:59:46 -0800</td>\n",
       "      <td>Texas</td>\n",
       "      <td>NaN</td>\n",
       "    </tr>\n",
       "    <tr>\n",
       "      <th>14637</th>\n",
       "      <td>569587242672398336</td>\n",
       "      <td>neutral</td>\n",
       "      <td>1.0000</td>\n",
       "      <td>NaN</td>\n",
       "      <td>NaN</td>\n",
       "      <td>American</td>\n",
       "      <td>NaN</td>\n",
       "      <td>sanyabun</td>\n",
       "      <td>NaN</td>\n",
       "      <td>0</td>\n",
       "      <td>@AmericanAir Please bring American Airlines to...</td>\n",
       "      <td>NaN</td>\n",
       "      <td>2015-02-22 11:59:15 -0800</td>\n",
       "      <td>Nigeria,lagos</td>\n",
       "      <td>NaN</td>\n",
       "    </tr>\n",
       "    <tr>\n",
       "      <th>14638</th>\n",
       "      <td>569587188687634433</td>\n",
       "      <td>negative</td>\n",
       "      <td>1.0000</td>\n",
       "      <td>Customer Service Issue</td>\n",
       "      <td>0.6659</td>\n",
       "      <td>American</td>\n",
       "      <td>NaN</td>\n",
       "      <td>SraJackson</td>\n",
       "      <td>NaN</td>\n",
       "      <td>0</td>\n",
       "      <td>@AmericanAir you have my money, you change my ...</td>\n",
       "      <td>NaN</td>\n",
       "      <td>2015-02-22 11:59:02 -0800</td>\n",
       "      <td>New Jersey</td>\n",
       "      <td>Eastern Time (US &amp; Canada)</td>\n",
       "    </tr>\n",
       "    <tr>\n",
       "      <th>14639</th>\n",
       "      <td>569587140490866689</td>\n",
       "      <td>neutral</td>\n",
       "      <td>0.6771</td>\n",
       "      <td>NaN</td>\n",
       "      <td>0.0000</td>\n",
       "      <td>American</td>\n",
       "      <td>NaN</td>\n",
       "      <td>daviddtwu</td>\n",
       "      <td>NaN</td>\n",
       "      <td>0</td>\n",
       "      <td>@AmericanAir we have 8 ppl so we need 2 know h...</td>\n",
       "      <td>NaN</td>\n",
       "      <td>2015-02-22 11:58:51 -0800</td>\n",
       "      <td>dallas, TX</td>\n",
       "      <td>NaN</td>\n",
       "    </tr>\n",
       "  </tbody>\n",
       "</table>\n",
       "<p>14640 rows × 15 columns</p>\n",
       "</div>"
      ],
      "text/plain": [
       "                 tweet_id airline_sentiment  airline_sentiment_confidence  \\\n",
       "0      570306133677760513           neutral                        1.0000   \n",
       "1      570301130888122368          positive                        0.3486   \n",
       "2      570301083672813571           neutral                        0.6837   \n",
       "3      570301031407624196          negative                        1.0000   \n",
       "4      570300817074462722          negative                        1.0000   \n",
       "...                   ...               ...                           ...   \n",
       "14635  569587686496825344          positive                        0.3487   \n",
       "14636  569587371693355008          negative                        1.0000   \n",
       "14637  569587242672398336           neutral                        1.0000   \n",
       "14638  569587188687634433          negative                        1.0000   \n",
       "14639  569587140490866689           neutral                        0.6771   \n",
       "\n",
       "               negativereason  negativereason_confidence         airline  \\\n",
       "0                         NaN                        NaN  Virgin America   \n",
       "1                         NaN                     0.0000  Virgin America   \n",
       "2                         NaN                        NaN  Virgin America   \n",
       "3                  Bad Flight                     0.7033  Virgin America   \n",
       "4                  Can't Tell                     1.0000  Virgin America   \n",
       "...                       ...                        ...             ...   \n",
       "14635                     NaN                     0.0000        American   \n",
       "14636  Customer Service Issue                     1.0000        American   \n",
       "14637                     NaN                        NaN        American   \n",
       "14638  Customer Service Issue                     0.6659        American   \n",
       "14639                     NaN                     0.0000        American   \n",
       "\n",
       "      airline_sentiment_gold             name negativereason_gold  \\\n",
       "0                        NaN          cairdin                 NaN   \n",
       "1                        NaN         jnardino                 NaN   \n",
       "2                        NaN       yvonnalynn                 NaN   \n",
       "3                        NaN         jnardino                 NaN   \n",
       "4                        NaN         jnardino                 NaN   \n",
       "...                      ...              ...                 ...   \n",
       "14635                    NaN  KristenReenders                 NaN   \n",
       "14636                    NaN         itsropes                 NaN   \n",
       "14637                    NaN         sanyabun                 NaN   \n",
       "14638                    NaN       SraJackson                 NaN   \n",
       "14639                    NaN        daviddtwu                 NaN   \n",
       "\n",
       "       retweet_count                                               text  \\\n",
       "0                  0                @VirginAmerica What @dhepburn said.   \n",
       "1                  0  @VirginAmerica plus you've added commercials t...   \n",
       "2                  0  @VirginAmerica I didn't today... Must mean I n...   \n",
       "3                  0  @VirginAmerica it's really aggressive to blast...   \n",
       "4                  0  @VirginAmerica and it's a really big bad thing...   \n",
       "...              ...                                                ...   \n",
       "14635              0  @AmericanAir thank you we got on a different f...   \n",
       "14636              0  @AmericanAir leaving over 20 minutes Late Flig...   \n",
       "14637              0  @AmericanAir Please bring American Airlines to...   \n",
       "14638              0  @AmericanAir you have my money, you change my ...   \n",
       "14639              0  @AmericanAir we have 8 ppl so we need 2 know h...   \n",
       "\n",
       "      tweet_coord              tweet_created tweet_location  \\\n",
       "0             NaN  2015-02-24 11:35:52 -0800            NaN   \n",
       "1             NaN  2015-02-24 11:15:59 -0800            NaN   \n",
       "2             NaN  2015-02-24 11:15:48 -0800      Lets Play   \n",
       "3             NaN  2015-02-24 11:15:36 -0800            NaN   \n",
       "4             NaN  2015-02-24 11:14:45 -0800            NaN   \n",
       "...           ...                        ...            ...   \n",
       "14635         NaN  2015-02-22 12:01:01 -0800            NaN   \n",
       "14636         NaN  2015-02-22 11:59:46 -0800          Texas   \n",
       "14637         NaN  2015-02-22 11:59:15 -0800  Nigeria,lagos   \n",
       "14638         NaN  2015-02-22 11:59:02 -0800     New Jersey   \n",
       "14639         NaN  2015-02-22 11:58:51 -0800     dallas, TX   \n",
       "\n",
       "                    user_timezone  \n",
       "0      Eastern Time (US & Canada)  \n",
       "1      Pacific Time (US & Canada)  \n",
       "2      Central Time (US & Canada)  \n",
       "3      Pacific Time (US & Canada)  \n",
       "4      Pacific Time (US & Canada)  \n",
       "...                           ...  \n",
       "14635                         NaN  \n",
       "14636                         NaN  \n",
       "14637                         NaN  \n",
       "14638  Eastern Time (US & Canada)  \n",
       "14639                         NaN  \n",
       "\n",
       "[14640 rows x 15 columns]"
      ]
     },
     "execution_count": 2,
     "metadata": {},
     "output_type": "execute_result"
    }
   ],
   "source": [
    "dataset= pd.read_csv(\"Tweets.csv\")\n",
    "dataset"
   ]
  },
  {
   "cell_type": "markdown",
   "id": "bc9d6a2f",
   "metadata": {},
   "source": [
    "## Preparing the datasets"
   ]
  },
  {
   "cell_type": "code",
   "execution_count": 3,
   "id": "d9b6d1e3",
   "metadata": {},
   "outputs": [
    {
     "data": {
      "text/plain": [
       "Index(['tweet_id', 'airline_sentiment', 'airline_sentiment_confidence',\n",
       "       'negativereason', 'negativereason_confidence', 'airline',\n",
       "       'airline_sentiment_gold', 'name', 'negativereason_gold',\n",
       "       'retweet_count', 'text', 'tweet_coord', 'tweet_created',\n",
       "       'tweet_location', 'user_timezone'],\n",
       "      dtype='object')"
      ]
     },
     "execution_count": 3,
     "metadata": {},
     "output_type": "execute_result"
    }
   ],
   "source": [
    "dataset.columns ## checking through the columns to decide the needed one for the analysis\n"
   ]
  },
  {
   "cell_type": "code",
   "execution_count": 4,
   "id": "95cefa8a",
   "metadata": {},
   "outputs": [
    {
     "data": {
      "text/html": [
       "<div>\n",
       "<style scoped>\n",
       "    .dataframe tbody tr th:only-of-type {\n",
       "        vertical-align: middle;\n",
       "    }\n",
       "\n",
       "    .dataframe tbody tr th {\n",
       "        vertical-align: top;\n",
       "    }\n",
       "\n",
       "    .dataframe thead th {\n",
       "        text-align: right;\n",
       "    }\n",
       "</style>\n",
       "<table border=\"1\" class=\"dataframe\">\n",
       "  <thead>\n",
       "    <tr style=\"text-align: right;\">\n",
       "      <th></th>\n",
       "      <th>text</th>\n",
       "      <th>airline_sentiment</th>\n",
       "    </tr>\n",
       "  </thead>\n",
       "  <tbody>\n",
       "    <tr>\n",
       "      <th>0</th>\n",
       "      <td>@VirginAmerica What @dhepburn said.</td>\n",
       "      <td>neutral</td>\n",
       "    </tr>\n",
       "    <tr>\n",
       "      <th>1</th>\n",
       "      <td>@VirginAmerica plus you've added commercials t...</td>\n",
       "      <td>positive</td>\n",
       "    </tr>\n",
       "    <tr>\n",
       "      <th>2</th>\n",
       "      <td>@VirginAmerica I didn't today... Must mean I n...</td>\n",
       "      <td>neutral</td>\n",
       "    </tr>\n",
       "    <tr>\n",
       "      <th>3</th>\n",
       "      <td>@VirginAmerica it's really aggressive to blast...</td>\n",
       "      <td>negative</td>\n",
       "    </tr>\n",
       "    <tr>\n",
       "      <th>4</th>\n",
       "      <td>@VirginAmerica and it's a really big bad thing...</td>\n",
       "      <td>negative</td>\n",
       "    </tr>\n",
       "  </tbody>\n",
       "</table>\n",
       "</div>"
      ],
      "text/plain": [
       "                                                text airline_sentiment\n",
       "0                @VirginAmerica What @dhepburn said.           neutral\n",
       "1  @VirginAmerica plus you've added commercials t...          positive\n",
       "2  @VirginAmerica I didn't today... Must mean I n...           neutral\n",
       "3  @VirginAmerica it's really aggressive to blast...          negative\n",
       "4  @VirginAmerica and it's a really big bad thing...          negative"
      ]
     },
     "execution_count": 4,
     "metadata": {},
     "output_type": "execute_result"
    }
   ],
   "source": [
    "## the text and the airline_sentiment will only be used for the purpose of this study.\n",
    "dataset = dataset[['text', 'airline_sentiment']]\n",
    "dataset.head(5)\n"
   ]
  },
  {
   "cell_type": "code",
   "execution_count": 5,
   "id": "4f4c01e8",
   "metadata": {},
   "outputs": [
    {
     "data": {
      "text/html": [
       "<div>\n",
       "<style scoped>\n",
       "    .dataframe tbody tr th:only-of-type {\n",
       "        vertical-align: middle;\n",
       "    }\n",
       "\n",
       "    .dataframe tbody tr th {\n",
       "        vertical-align: top;\n",
       "    }\n",
       "\n",
       "    .dataframe thead th {\n",
       "        text-align: right;\n",
       "    }\n",
       "</style>\n",
       "<table border=\"1\" class=\"dataframe\">\n",
       "  <thead>\n",
       "    <tr style=\"text-align: right;\">\n",
       "      <th></th>\n",
       "      <th>text</th>\n",
       "      <th>airline_sentiment</th>\n",
       "    </tr>\n",
       "  </thead>\n",
       "  <tbody>\n",
       "    <tr>\n",
       "      <th>1</th>\n",
       "      <td>@VirginAmerica plus you've added commercials t...</td>\n",
       "      <td>positive</td>\n",
       "    </tr>\n",
       "    <tr>\n",
       "      <th>3</th>\n",
       "      <td>@VirginAmerica it's really aggressive to blast...</td>\n",
       "      <td>negative</td>\n",
       "    </tr>\n",
       "    <tr>\n",
       "      <th>4</th>\n",
       "      <td>@VirginAmerica and it's a really big bad thing...</td>\n",
       "      <td>negative</td>\n",
       "    </tr>\n",
       "    <tr>\n",
       "      <th>5</th>\n",
       "      <td>@VirginAmerica seriously would pay $30 a fligh...</td>\n",
       "      <td>negative</td>\n",
       "    </tr>\n",
       "    <tr>\n",
       "      <th>6</th>\n",
       "      <td>@VirginAmerica yes, nearly every time I fly VX...</td>\n",
       "      <td>positive</td>\n",
       "    </tr>\n",
       "  </tbody>\n",
       "</table>\n",
       "</div>"
      ],
      "text/plain": [
       "                                                text airline_sentiment\n",
       "1  @VirginAmerica plus you've added commercials t...          positive\n",
       "3  @VirginAmerica it's really aggressive to blast...          negative\n",
       "4  @VirginAmerica and it's a really big bad thing...          negative\n",
       "5  @VirginAmerica seriously would pay $30 a fligh...          negative\n",
       "6  @VirginAmerica yes, nearly every time I fly VX...          positive"
      ]
     },
     "execution_count": 5,
     "metadata": {},
     "output_type": "execute_result"
    }
   ],
   "source": [
    "## intend to predict positive or negative, neutral is not relevant, so it will be removed.\n",
    "dataset = dataset[dataset['airline_sentiment'] != 'neutral'] \n",
    "\n",
    "## dataset after cleaning\n",
    "dataset.head()"
   ]
  },
  {
   "cell_type": "code",
   "execution_count": 6,
   "id": "58816182",
   "metadata": {},
   "outputs": [
    {
     "data": {
      "text/plain": [
       "negative    9178\n",
       "positive    2363\n",
       "Name: airline_sentiment, dtype: int64"
      ]
     },
     "execution_count": 6,
     "metadata": {},
     "output_type": "execute_result"
    }
   ],
   "source": [
    "dataset['airline_sentiment'].value_counts() ## counts of positive to negative"
   ]
  },
  {
   "cell_type": "code",
   "execution_count": 7,
   "id": "190a97b6",
   "metadata": {},
   "outputs": [
    {
     "data": {
      "text/plain": [
       "<AxesSubplot:xlabel='airline_sentiment', ylabel='Count'>"
      ]
     },
     "execution_count": 7,
     "metadata": {},
     "output_type": "execute_result"
    },
    {
     "data": {
      "image/png": "[encoded data removed]",
      "text/plain": [
       "<Figure size 720x720 with 1 Axes>"
      ]
     },
     "metadata": {
      "needs_background": "light"
     },
     "output_type": "display_data"
    }
   ],
   "source": [
    "## plotting the histogram distribution of the label\n",
    "fig= plt.figure(figsize = (10, 10))\n",
    "sns.histplot(data = dataset, x = 'airline_sentiment')\n"
   ]
  },
  {
   "cell_type": "markdown",
   "id": "f8b6608b",
   "metadata": {},
   "source": [
    "## Tokenizing the text to Numerical values"
   ]
  },
  {
   "cell_type": "code",
   "execution_count": 8,
   "id": "e32babd4",
   "metadata": {},
   "outputs": [],
   "source": [
    "number_words = 7000\n",
    "tokenizer = Tokenizer(num_words=number_words, split=' ')\n",
    "tokenizer.fit_on_texts(dataset['text'].values)\n",
    "vocab_size = len(tokenizer.word_index) + 1\n",
    "X = tokenizer.texts_to_sequences(dataset['text'].values)\n",
    "X = pad_sequences(X) ## the text has been converted to numerical values\n",
    "\n",
    "\n",
    "y = pd.get_dummies(dataset['airline_sentiment']).values ## the labels has been converted to numerical values"
   ]
  },
  {
   "cell_type": "code",
   "execution_count": 9,
   "id": "715bd848",
   "metadata": {},
   "outputs": [
    {
     "data": {
      "text/plain": [
       "array([[   0,    0,    0, ...,    2,  177, 5709],\n",
       "       [   0,    0,    0, ...,   25,  482, 2417],\n",
       "       [   0,    0,    0, ...,  483,   86,   21],\n",
       "       ...,\n",
       "       [   0,    0,    0, ...,    8,    1,  480],\n",
       "       [   0,    0,    0, ..., 1682,   45,  945],\n",
       "       [   0,    0,    0, ...,  144,   11, 2325]])"
      ]
     },
     "execution_count": 9,
     "metadata": {},
     "output_type": "execute_result"
    }
   ],
   "source": [
    "X"
   ]
  },
  {
   "cell_type": "code",
   "execution_count": 10,
   "id": "f02fbaa0",
   "metadata": {},
   "outputs": [
    {
     "data": {
      "text/plain": [
       "array([[0, 1],\n",
       "       [1, 0],\n",
       "       [1, 0],\n",
       "       ...,\n",
       "       [0, 1],\n",
       "       [1, 0],\n",
       "       [1, 0]], dtype=uint8)"
      ]
     },
     "execution_count": 10,
     "metadata": {},
     "output_type": "execute_result"
    }
   ],
   "source": [
    "y"
   ]
  },
  {
   "cell_type": "markdown",
   "id": "ba076f9f",
   "metadata": {},
   "source": [
    "## Splitting Data"
   ]
  },
  {
   "cell_type": "code",
   "execution_count": 11,
   "id": "7d49d202",
   "metadata": {},
   "outputs": [
    {
     "name": "stdout",
     "output_type": "stream",
     "text": [
      "(9232, 34) (9232, 2)\n",
      "(2309, 34) (2309, 2)\n"
     ]
    }
   ],
   "source": [
    "X_train, X_test, y_train, y_test = train_test_split(X, y, test_size = 0.20, random_state = 0)\n",
    "print(X_train.shape,y_train.shape) ## printing the shape of the train set\n",
    "print(X_test.shape,y_test.shape) ## training the shape of the test set"
   ]
  },
  {
   "cell_type": "markdown",
   "id": "1ffe3cb3",
   "metadata": {},
   "source": [
    "## Defining the model"
   ]
  },
  {
   "cell_type": "code",
   "execution_count": 12,
   "id": "460cac60",
   "metadata": {},
   "outputs": [
    {
     "name": "stdout",
     "output_type": "stream",
     "text": [
      "Model: \"sequential\"\n",
      "_________________________________________________________________\n",
      " Layer (type)                Output Shape              Param #   \n",
      "=================================================================\n",
      " embedding (Embedding)       (None, 34, 32)            423488    \n",
      "                                                                 \n",
      " spatial_dropout1d (SpatialD  (None, 34, 32)           0         \n",
      " ropout1D)                                                       \n",
      "                                                                 \n",
      " lstm (LSTM)                 (None, 50)                16600     \n",
      "                                                                 \n",
      " dropout (Dropout)           (None, 50)                0         \n",
      "                                                                 \n",
      " dense (Dense)               (None, 2)                 102       \n",
      "                                                                 \n",
      "=================================================================\n",
      "Total params: 440,190\n",
      "Trainable params: 440,190\n",
      "Non-trainable params: 0\n",
      "_________________________________________________________________\n"
     ]
    }
   ],
   "source": [
    "embedded_dim = 32\n",
    "model =tf.keras.models.Sequential()\n",
    "model.add(Embedding(vocab_size , embedded_dim, input_length = X.shape[1])) ## lowering the dimensionality of categorical variables\n",
    "model.add(SpatialDropout1D(0.25)) ## \n",
    "model.add(LSTM(50, dropout=0.5, recurrent_dropout=0.5))\n",
    "model.add(Dropout(0.2)) ## regularizing to creates a robust network\n",
    "model.add(Dense(2, activation='softmax'))\n",
    "model.compile(optimizer='adam', loss = 'categorical_crossentropy', metrics = ['accuracy']) ## multi class classification\n",
    "model.summary()\n",
    "\n",
    "\n"
   ]
  },
  {
   "cell_type": "markdown",
   "id": "6219aec7",
   "metadata": {},
   "source": [
    "## Creating the tensorboard logger"
   ]
  },
  {
   "cell_type": "code",
   "execution_count": 13,
   "id": "def7362d",
   "metadata": {},
   "outputs": [],
   "source": [
    "log_dir = \"logs/fit/\" + datetime.datetime.now().strftime(\"%Y%m%d-%H%M%S\") \n",
    "tensorboard_callback = TensorBoard(\n",
    "    log_dir=log_dir,\n",
    "    histogram_freq=1,\n",
    "    write_graph=True,\n",
    "    write_images=False,\n",
    "    update_freq=\"epoch\",\n",
    ")\n",
    "\n",
    "log_dir = \"logs/fit/\" \n",
    "tensorboard_callback = tf.keras.callbacks.TensorBoard(log_dir=log_dir, histogram_freq = 1)"
   ]
  },
  {
   "cell_type": "code",
   "execution_count": 14,
   "id": "5d72cab2",
   "metadata": {},
   "outputs": [
    {
     "name": "stdout",
     "output_type": "stream",
     "text": [
      "Epoch 1/50\n",
      "289/289 [==============================] - 20s 56ms/step - loss: 0.3747 - accuracy: 0.8454 - val_loss: 0.2314 - val_accuracy: 0.9138\n",
      "Epoch 2/50\n",
      "289/289 [==============================] - 15s 52ms/step - loss: 0.1993 - accuracy: 0.9226 - val_loss: 0.1886 - val_accuracy: 0.9298\n",
      "Epoch 3/50\n",
      "289/289 [==============================] - 16s 54ms/step - loss: 0.1470 - accuracy: 0.9474 - val_loss: 0.1878 - val_accuracy: 0.9307\n",
      "Epoch 4/50\n",
      "289/289 [==============================] - 14s 49ms/step - loss: 0.1205 - accuracy: 0.9566 - val_loss: 0.1907 - val_accuracy: 0.9342\n",
      "Epoch 5/50\n",
      "289/289 [==============================] - 14s 47ms/step - loss: 0.0966 - accuracy: 0.9639 - val_loss: 0.1937 - val_accuracy: 0.9363\n",
      "Epoch 6/50\n",
      "289/289 [==============================] - 14s 47ms/step - loss: 0.0854 - accuracy: 0.9698 - val_loss: 0.1951 - val_accuracy: 0.9350\n",
      "Epoch 7/50\n",
      "289/289 [==============================] - 14s 48ms/step - loss: 0.0692 - accuracy: 0.9740 - val_loss: 0.2453 - val_accuracy: 0.9320\n",
      "Epoch 8/50\n",
      "289/289 [==============================] - 14s 47ms/step - loss: 0.0681 - accuracy: 0.9764 - val_loss: 0.2259 - val_accuracy: 0.9329\n",
      "Epoch 9/50\n",
      "289/289 [==============================] - 13s 46ms/step - loss: 0.0504 - accuracy: 0.9814 - val_loss: 0.2465 - val_accuracy: 0.9307\n",
      "Epoch 10/50\n",
      "289/289 [==============================] - 13s 46ms/step - loss: 0.0529 - accuracy: 0.9813 - val_loss: 0.2405 - val_accuracy: 0.9294\n",
      "Epoch 11/50\n",
      "289/289 [==============================] - 13s 46ms/step - loss: 0.0451 - accuracy: 0.9833 - val_loss: 0.3004 - val_accuracy: 0.9298\n",
      "Epoch 12/50\n",
      "289/289 [==============================] - 14s 48ms/step - loss: 0.0391 - accuracy: 0.9852 - val_loss: 0.3089 - val_accuracy: 0.9277\n",
      "Epoch 13/50\n",
      "289/289 [==============================] - 14s 47ms/step - loss: 0.0373 - accuracy: 0.9861 - val_loss: 0.3161 - val_accuracy: 0.9277\n",
      "Epoch 14/50\n",
      "289/289 [==============================] - 14s 47ms/step - loss: 0.0356 - accuracy: 0.9870 - val_loss: 0.3272 - val_accuracy: 0.9285\n",
      "Epoch 15/50\n",
      "289/289 [==============================] - 14s 48ms/step - loss: 0.0339 - accuracy: 0.9873 - val_loss: 0.3404 - val_accuracy: 0.9277\n",
      "Epoch 16/50\n",
      "289/289 [==============================] - 14s 48ms/step - loss: 0.0301 - accuracy: 0.9891 - val_loss: 0.3728 - val_accuracy: 0.9298\n",
      "Epoch 17/50\n",
      "289/289 [==============================] - 15s 51ms/step - loss: 0.0272 - accuracy: 0.9897 - val_loss: 0.3318 - val_accuracy: 0.9264\n",
      "Epoch 18/50\n",
      "289/289 [==============================] - 13s 46ms/step - loss: 0.0291 - accuracy: 0.9882 - val_loss: 0.3783 - val_accuracy: 0.9281\n",
      "Epoch 19/50\n",
      "289/289 [==============================] - 15s 52ms/step - loss: 0.0259 - accuracy: 0.9911 - val_loss: 0.3764 - val_accuracy: 0.9268\n",
      "Epoch 20/50\n",
      "289/289 [==============================] - 14s 48ms/step - loss: 0.0225 - accuracy: 0.9919 - val_loss: 0.3606 - val_accuracy: 0.9281\n",
      "Epoch 21/50\n",
      "289/289 [==============================] - 15s 50ms/step - loss: 0.0277 - accuracy: 0.9910 - val_loss: 0.3980 - val_accuracy: 0.9272\n",
      "Epoch 22/50\n",
      "289/289 [==============================] - 15s 51ms/step - loss: 0.0243 - accuracy: 0.9908 - val_loss: 0.4037 - val_accuracy: 0.9255\n",
      "Epoch 23/50\n",
      "289/289 [==============================] - 15s 53ms/step - loss: 0.0253 - accuracy: 0.9898 - val_loss: 0.3757 - val_accuracy: 0.9290\n",
      "Epoch 24/50\n",
      "289/289 [==============================] - 14s 49ms/step - loss: 0.0201 - accuracy: 0.9931 - val_loss: 0.3872 - val_accuracy: 0.9238\n",
      "Epoch 25/50\n",
      "289/289 [==============================] - 14s 49ms/step - loss: 0.0182 - accuracy: 0.9927 - val_loss: 0.4177 - val_accuracy: 0.9264\n",
      "Epoch 26/50\n",
      "289/289 [==============================] - 14s 48ms/step - loss: 0.0204 - accuracy: 0.9919 - val_loss: 0.4820 - val_accuracy: 0.9238\n",
      "Epoch 27/50\n",
      "289/289 [==============================] - 13s 46ms/step - loss: 0.0206 - accuracy: 0.9927 - val_loss: 0.4135 - val_accuracy: 0.9264\n",
      "Epoch 28/50\n",
      "289/289 [==============================] - 14s 48ms/step - loss: 0.0164 - accuracy: 0.9933 - val_loss: 0.4295 - val_accuracy: 0.9255\n",
      "Epoch 29/50\n",
      "289/289 [==============================] - 14s 48ms/step - loss: 0.0146 - accuracy: 0.9940 - val_loss: 0.4366 - val_accuracy: 0.9229\n",
      "Epoch 30/50\n",
      "289/289 [==============================] - 14s 49ms/step - loss: 0.0171 - accuracy: 0.9937 - val_loss: 0.4693 - val_accuracy: 0.9233\n",
      "Epoch 31/50\n",
      "289/289 [==============================] - 14s 49ms/step - loss: 0.0151 - accuracy: 0.9943 - val_loss: 0.4549 - val_accuracy: 0.9259\n",
      "Epoch 32/50\n",
      "289/289 [==============================] - 15s 53ms/step - loss: 0.0178 - accuracy: 0.9936 - val_loss: 0.4317 - val_accuracy: 0.9238\n",
      "Epoch 33/50\n",
      "289/289 [==============================] - 14s 49ms/step - loss: 0.0138 - accuracy: 0.9942 - val_loss: 0.4859 - val_accuracy: 0.9259\n",
      "Epoch 34/50\n",
      "289/289 [==============================] - 14s 50ms/step - loss: 0.0136 - accuracy: 0.9951 - val_loss: 0.4632 - val_accuracy: 0.9233\n",
      "Epoch 35/50\n",
      "289/289 [==============================] - 14s 49ms/step - loss: 0.0139 - accuracy: 0.9955 - val_loss: 0.4396 - val_accuracy: 0.9238\n",
      "Epoch 36/50\n",
      "289/289 [==============================] - 15s 50ms/step - loss: 0.0143 - accuracy: 0.9953 - val_loss: 0.4553 - val_accuracy: 0.9242\n",
      "Epoch 37/50\n",
      "289/289 [==============================] - 13s 47ms/step - loss: 0.0090 - accuracy: 0.9965 - val_loss: 0.5200 - val_accuracy: 0.9285\n",
      "Epoch 38/50\n",
      "289/289 [==============================] - 14s 48ms/step - loss: 0.0124 - accuracy: 0.9956 - val_loss: 0.5439 - val_accuracy: 0.9277\n",
      "Epoch 39/50\n",
      "289/289 [==============================] - 14s 48ms/step - loss: 0.0117 - accuracy: 0.9958 - val_loss: 0.5445 - val_accuracy: 0.9233\n",
      "Epoch 40/50\n",
      "289/289 [==============================] - 14s 50ms/step - loss: 0.0129 - accuracy: 0.9950 - val_loss: 0.5122 - val_accuracy: 0.9246\n",
      "Epoch 41/50\n",
      "289/289 [==============================] - 14s 49ms/step - loss: 0.0108 - accuracy: 0.9959 - val_loss: 0.4915 - val_accuracy: 0.9216\n",
      "Epoch 42/50\n",
      "289/289 [==============================] - 14s 49ms/step - loss: 0.0113 - accuracy: 0.9960 - val_loss: 0.5107 - val_accuracy: 0.9259\n",
      "Epoch 43/50\n",
      "289/289 [==============================] - 15s 52ms/step - loss: 0.0094 - accuracy: 0.9963 - val_loss: 0.5100 - val_accuracy: 0.9242\n",
      "Epoch 44/50\n",
      "289/289 [==============================] - 14s 50ms/step - loss: 0.0107 - accuracy: 0.9959 - val_loss: 0.5341 - val_accuracy: 0.9242\n",
      "Epoch 45/50\n",
      "289/289 [==============================] - 14s 47ms/step - loss: 0.0085 - accuracy: 0.9969 - val_loss: 0.5250 - val_accuracy: 0.9246\n",
      "Epoch 46/50\n",
      "289/289 [==============================] - 14s 49ms/step - loss: 0.0091 - accuracy: 0.9963 - val_loss: 0.5131 - val_accuracy: 0.9259\n",
      "Epoch 47/50\n",
      "289/289 [==============================] - 14s 49ms/step - loss: 0.0106 - accuracy: 0.9953 - val_loss: 0.5412 - val_accuracy: 0.9212\n",
      "Epoch 48/50\n",
      "289/289 [==============================] - 14s 49ms/step - loss: 0.0105 - accuracy: 0.9962 - val_loss: 0.5144 - val_accuracy: 0.9268\n",
      "Epoch 49/50\n",
      "289/289 [==============================] - 14s 50ms/step - loss: 0.0084 - accuracy: 0.9974 - val_loss: 0.5346 - val_accuracy: 0.9255\n",
      "Epoch 50/50\n",
      "289/289 [==============================] - 14s 49ms/step - loss: 0.0123 - accuracy: 0.9958 - val_loss: 0.5481 - val_accuracy: 0.9220\n"
     ]
    }
   ],
   "source": [
    "## training will be done on 50 epochs\n",
    "history = model.fit(X_train, y_train, epochs = 50, validation_data =(X_test, y_test), callbacks=[tensorboard_callback])\n",
    "\n"
   ]
  },
  {
   "cell_type": "markdown",
   "id": "afe20c15",
   "metadata": {},
   "source": [
    "## Training the model"
   ]
  },
  {
   "cell_type": "markdown",
   "id": "996cb133",
   "metadata": {},
   "source": [
    "## visualizing the accuracy and loss"
   ]
  },
  {
   "cell_type": "code",
   "execution_count": 18,
   "id": "93af18a0",
   "metadata": {},
   "outputs": [
    {
     "data": {
      "image/png": "[encoded data removed]",
      "text/plain": [
       "<Figure size 720x720 with 1 Axes>"
      ]
     },
     "metadata": {
      "needs_background": "light"
     },
     "output_type": "display_data"
    }
   ],
   "source": [
    "#Plotting a histogram over the 50 epocs and plotting the accuracy and value accuracy\n",
    "plt.figure(figsize=(10,10))\n",
    "plt.plot(history.history[\"accuracy\"], label = 'ACCURACY')\n",
    "plt.plot(history.history[\"val_accuracy\"], label = 'VAL_ACCURACY')\n",
    "plt.title(\"MODEL ACCUARCY AND VALUE ACCURACY\")\n",
    "plt.legend()\n",
    "plt.show()"
   ]
  },
  {
   "cell_type": "code",
   "execution_count": 19,
   "id": "681be879",
   "metadata": {},
   "outputs": [
    {
     "data": {
      "image/png": "[encoded data removed]",
      "text/plain": [
       "<Figure size 720x720 with 1 Axes>"
      ]
     },
     "metadata": {
      "needs_background": "light"
     },
     "output_type": "display_data"
    }
   ],
   "source": [
    "#Plotting a histogram over the 50 epocs and plotting the loss and val_loss\n",
    "plt.figure(figsize=(10,10))\n",
    "plt.plot(history.history[\"loss\"], label = 'LOSS')\n",
    "plt.plot(history.history[\"val_loss\"], label = 'VAL_LOSS')\n",
    "plt.title(\"MODEL LOSS AND VALUE LOSS\")\n",
    "plt.legend()\n",
    "plt.show()"
   ]
  },
  {
   "cell_type": "markdown",
   "id": "d6a204b3",
   "metadata": {},
   "source": [
    "## Testing the model mean squared error"
   ]
  },
  {
   "cell_type": "code",
   "execution_count": 20,
   "id": "feda26b4",
   "metadata": {},
   "outputs": [
    {
     "name": "stdout",
     "output_type": "stream",
     "text": [
      "The mean squared error (MSE) for the test data set is: [0.5480793714523315, 0.9220441579818726]\n"
     ]
    }
   ],
   "source": [
    "test_error_rate = model.evaluate(X_test, y_test, verbose=0)\n",
    "print(\"The mean squared error (MSE) for the test data set is: {}\".format(test_error_rate))"
   ]
  },
  {
   "cell_type": "markdown",
   "id": "fbf23bdf",
   "metadata": {},
   "source": [
    "## Prediction on a Random Sample from the twitter comments"
   ]
  },
  {
   "cell_type": "code",
   "execution_count": 21,
   "id": "c72b1c71",
   "metadata": {},
   "outputs": [
    {
     "name": "stdout",
     "output_type": "stream",
     "text": [
      "[[  0   0   0   0   0   0   0   0   0   0   0   0   0   0   0   0   0   0\n",
      "    0   0   0   0   0   0   0   0   0   0   0   0   2 206   8 152]]\n",
      "1/1 - 1s - 602ms/epoch - 602ms/step\n",
      "positive\n"
     ]
    }
   ],
   "source": [
    "#now testing  on a random sample from the twitter comments \n",
    "comment = [\"the best flight ever\"]\n",
    "#vectorizing the comment\n",
    "comment = tokenizer.texts_to_sequences(comment)\n",
    "comment = pad_sequences(comment, maxlen=34, dtype='int32', value=0)\n",
    "print(comment) ## print the epoch\n",
    "\n",
    "sentiment = model.predict(comment,batch_size=2,verbose = 2)[0]\n",
    "if(np.argmax(sentiment) == 0):\n",
    "    print(\"negative\")\n",
    "elif (np.argmax(sentiment) == 1):\n",
    "    print(\"positive\")"
   ]
  },
  {
   "cell_type": "code",
   "execution_count": 22,
   "id": "cb98e038",
   "metadata": {},
   "outputs": [
    {
     "name": "stdout",
     "output_type": "stream",
     "text": [
      "[[  0   0   0   0   0   0   0   0   0   0   0   0   0   0   0   0   0   0\n",
      "    0   0   0   0   0   0   0   0   0   0   0   0   2 149   8 152]]\n",
      "1/1 - 0s - 42ms/epoch - 42ms/step\n",
      "negative\n"
     ]
    }
   ],
   "source": [
    "#now testing  on a random sample from the twitter comments: \n",
    "comment = [\"the worst flight ever\"]\n",
    "#vectorizing the comment\n",
    "comment = tokenizer.texts_to_sequences(comment)\n",
    "comment = pad_sequences(comment, maxlen=34, dtype='int32', value=0)\n",
    "print(comment) ## print the epoch\n",
    "\n",
    "sentiment = model.predict(comment,batch_size=2,verbose = 2)[0]\n",
    "if(np.argmax(sentiment) == 0):\n",
    "    print(\"negative\")\n",
    "elif (np.argmax(sentiment) == 1):\n",
    "    print(\"positive\")"
   ]
  },
  {
   "cell_type": "code",
   "execution_count": null,
   "id": "d4763a48",
   "metadata": {},
   "outputs": [],
   "source": []
  }
 ],
 "metadata": {
  "kernelspec": {
   "display_name": "Python 3 (ipykernel)",
   "language": "python",
   "name": "python3"
  },
  "language_info": {
   "codemirror_mode": {
    "name": "ipython",
    "version": 3
   },
   "file_extension": ".py",
   "mimetype": "text/x-python",
   "name": "python",
   "nbconvert_exporter": "python",
   "pygments_lexer": "ipython3",
   "version": "3.9.7"
  }
 },
 "nbformat": 4,
 "nbformat_minor": 5
}
